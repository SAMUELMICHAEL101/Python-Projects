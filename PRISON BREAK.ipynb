{
 "cells": [
  {
   "cell_type": "markdown",
   "metadata": {},
   "source": [
    "# Helicopter Prison Breaks Analysis  \n",
    "\n",
    "Welcome to an intriguing exploration of prison break attempts involving helicopters! This project delves into real-world data to uncover patterns and insights about these dramatic and often daring escapes. Using Python and Jupyter Notebook, we’ll transform raw data into a cohesive analysis, showcasing both technical and storytelling skills.  \n",
    "\n",
    "## Key Objectives:  \n",
    "- **Data Acquisition and Preparation**: Sourcing authentic data from the internet and refining it for analysis.  \n",
    "- **Data Analysis**: Leveraging Python to uncover trends and answer pivotal questions.  \n",
    "- **Portfolio Development**: Crafting an engaging and professional portfolio project that combines code, visuals, and insights.  \n",
    "\n",
    "## Questions to Explore:  \n",
    "1. In which year were the most helicopter prison break attempts recorded?  \n",
    "2. Which countries have witnessed the highest number of attempted helicopter prison breaks?  \n",
    "\n",
    "This project not only sharpens our Python and analytical skills but also demonstrates the power of data storytelling in understanding unique real-world phenomena. Let’s dive in!  \n"
   ]
  },
  {
   "cell_type": "code",
   "execution_count": 1,
   "metadata": {},
   "outputs": [
    {
     "ename": "ModuleNotFoundError",
     "evalue": "No module named 'helper'",
     "output_type": "error",
     "traceback": [
      "\u001b[1;31m---------------------------------------------------------------------------\u001b[0m",
      "\u001b[1;31mModuleNotFoundError\u001b[0m                       Traceback (most recent call last)",
      "Cell \u001b[1;32mIn[1], line 1\u001b[0m\n\u001b[1;32m----> 1\u001b[0m \u001b[38;5;28;01mfrom\u001b[39;00m \u001b[38;5;21;01mhelper\u001b[39;00m \u001b[38;5;28;01mimport\u001b[39;00m \u001b[38;5;241m*\u001b[39m\n",
      "\u001b[1;31mModuleNotFoundError\u001b[0m: No module named 'helper'"
     ]
    }
   ],
   "source": [
    "from helper import *"
   ]
  },
  {
   "cell_type": "markdown",
   "metadata": {},
   "source": [
    "### Getting The Data\n",
    "- DATA SOURCE: Wikipedia article titled List of Helicopter Prison Escapes."
   ]
  },
  {
   "cell_type": "code",
   "execution_count": null,
   "metadata": {},
   "outputs": [],
   "source": [
    "url = \"https://en.wikipedia.org/wiki/List_of_helicopter_prison_escapes\"\n",
    "data = data_from_url(url)"
   ]
  },
  {
   "cell_type": "code",
   "execution_count": null,
   "metadata": {},
   "outputs": [],
   "source": [
    "# Display the first three rows of the dataset\n",
    "\n",
    "for row in data[:3]:\n",
    "    print(row)\n"
   ]
  },
  {
   "cell_type": "markdown",
   "metadata": {},
   "source": [
    "### Removing The Details\n",
    "- The \"Details\" column occupies a significant portion of the screen. To improve data readability, we will remove it, resulting in a more streamlined layout as shown below:"
   ]
  },
  {
   "cell_type": "code",
   "execution_count": null,
   "metadata": {},
   "outputs": [],
   "source": [
    "index = 0\n",
    "for row in data:\n",
    "    data[index] = row[:-1]\n",
    "    index += 1"
   ]
  },
  {
   "cell_type": "code",
   "execution_count": null,
   "metadata": {},
   "outputs": [],
   "source": [
    "print(data[:3])"
   ]
  },
  {
   "cell_type": "markdown",
   "metadata": {},
   "source": [
    "### Extracting The Year\n",
    "- In the next step, we'll focus on extracting the year from the date strings in our dataset. By using the fetch_year() function, we can isolate the year, ensuring the dates are simplified and consistent for further analysis."
   ]
  },
  {
   "cell_type": "code",
   "execution_count": null,
   "metadata": {},
   "outputs": [],
   "source": [
    "for row in data:\n",
    "    date = fetch_year(row[0])\n",
    "    row[0] = date"
   ]
  },
  {
   "cell_type": "code",
   "execution_count": null,
   "metadata": {},
   "outputs": [],
   "source": [
    "print(data[:3])"
   ]
  },
  {
   "cell_type": "markdown",
   "metadata": {},
   "source": [
    "### Attempts Per Year I"
   ]
  },
  {
   "cell_type": "code",
   "execution_count": null,
   "metadata": {},
   "outputs": [],
   "source": [
    "min_year = min(data, key=lambda x: x[0])[0]\n",
    "max_year = max(data, key=lambda x: x[0])[0]"
   ]
  },
  {
   "cell_type": "code",
   "execution_count": null,
   "metadata": {
    "scrolled": true
   },
   "outputs": [],
   "source": [
    "print(min_year)\n",
    "print(max_year)"
   ]
  },
  {
   "cell_type": "markdown",
   "metadata": {},
   "source": [
    "Next, we will create a list of all the years from min_year to max_year. Our objective is to determine the number of prison break attempts for each year. By including years without prison breaks, which are absent from the dataset, we ensure a complete analysis."
   ]
  },
  {
   "cell_type": "code",
   "execution_count": null,
   "metadata": {},
   "outputs": [],
   "source": [
    "years = []\n",
    "for year in range(min_year, max_year + 1):\n",
    "    years.append(year)"
   ]
  },
  {
   "cell_type": "code",
   "execution_count": null,
   "metadata": {},
   "outputs": [],
   "source": [
    "print(years)"
   ]
  },
  {
   "cell_type": "code",
   "execution_count": null,
   "metadata": {},
   "outputs": [],
   "source": [
    "attempts_per_year = []\n",
    "for year in years:\n",
    "    attempts_per_year.append([year, 0])"
   ]
  },
  {
   "cell_type": "markdown",
   "metadata": {},
   "source": [
    "Now, we can calculate the number of attempts for each year and address one of our initial questions:\n",
    "\n",
    "Which year had the highest number of helicopter-assisted prison break attempts?"
   ]
  },
  {
   "cell_type": "code",
   "execution_count": null,
   "metadata": {},
   "outputs": [],
   "source": [
    "for row in data:\n",
    "    for year_attempt in attempts_per_year:\n",
    "        year = year_attempt[0]\n",
    "        if row[0] == year:\n",
    "            year_attempt[1] += 1\n",
    "            \n",
    "print(attempts_per_year)"
   ]
  },
  {
   "cell_type": "code",
   "execution_count": null,
   "metadata": {},
   "outputs": [],
   "source": [
    "%matplotlib inline\n",
    "barplot(attempts_per_year)"
   ]
  },
  {
   "cell_type": "markdown",
   "metadata": {},
   "source": [
    "The years in which the most helicopter prison break attempts occurred were 1986, 2001, 2007 and 2009, with a total of three attempts each."
   ]
  },
  {
   "cell_type": "markdown",
   "metadata": {},
   "source": [
    "### Attempts by Country"
   ]
  },
  {
   "cell_type": "code",
   "execution_count": null,
   "metadata": {},
   "outputs": [],
   "source": [
    "countries_frequency = df[\"Country\"].value_counts()\n",
    "print_pretty_table(countries_frequency)"
   ]
  },
  {
   "cell_type": "code",
   "execution_count": null,
   "metadata": {},
   "outputs": [],
   "source": []
  }
 ],
 "metadata": {
  "kernelspec": {
   "display_name": "Python 3",
   "language": "python",
   "name": "python3"
  },
  "language_info": {
   "codemirror_mode": {
    "name": "ipython",
    "version": 3
   },
   "file_extension": ".py",
   "mimetype": "text/x-python",
   "name": "python",
   "nbconvert_exporter": "python",
   "pygments_lexer": "ipython3",
   "version": "3.12.4"
  }
 },
 "nbformat": 4,
 "nbformat_minor": 2
}
